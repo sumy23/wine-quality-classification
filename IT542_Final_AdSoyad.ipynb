{
  "cells": [
    {
      "cell_type": "markdown",
      "metadata": {
        "id": "4JRd1uvoFcir"
      },
      "source": [
        "# **IT542 Yenilikçi Algoritmalar - Final**\n",
        "\n",
        "Wine Quality isimli veri kümesini (https://archive.ics.uci.edu/dataset/186/wine+quality) adresinden indirebilir veya Teams’te dosyalar altında bulabilirsiniz: Burada veri setine ait `winequality-red.csv` ve `winequality-white.csv` isimli iki ayrı dosya bulunmaktadır. Bu dosyalardan istediğiniz bir tanesini seçebilir ya da iki dosyayı birleştirip kendi veri setinizi oluşturabilirsiniz. Veride 11 adet bağımsız değişken, 1 adet hedef değişken (_quality_) bulunmaktadır. Veri seti ile ilgili kaynakça ve açıklamalar `winequality.names` isimli dosyada yer almaktadır.\n",
        "\n",
        "Bu notebook size yol gösterme amacıyla hazırlanmıştır. Üzerinde istediğiniz şekilde güncelleme yapabilirsiniz. Çalışmalarınızı tamamladıktan sonra bu notebook'u isminde yer alan **AdSoyad** kısmını kendi adınız ve soyadınızla güncelleyerek Teams'e yüklemeniz yeterlidir."
      ]
    },
    {
      "cell_type": "markdown",
      "metadata": {
        "id": "fUXyFnxU2HRM"
      },
      "source": [
        "## **Veri Analizi**\n",
        "\n",
        "Bu çalışmada öncelikle veri setini tanımak için pandas kütüphanesi fonksiyonlarını kullanarak kısa bir _Exploratory Data Analysis_ çalışması (yani veri setinde yer alan değişkenlerin dağılımlarını incelemeniz ve birkaç görselleştirme) yapmanızı bekliyoruz."
      ]
    },
    {
      "cell_type": "code",
      "execution_count": null,
      "metadata": {
        "id": "gl0phsjFFb6J"
      },
      "outputs": [],
      "source": [
        "# ihtiyaciniz olan kutuphaneleri calisma alaniniza ekleyin\n",
        "import pandas as pd\n",
        "import numpy as np\n",
        "import matplotlib.pyplot as plt\n",
        "import seaborn as sns"
      ]
    },
    {
      "cell_type": "code",
      "execution_count": 1,
      "metadata": {
        "id": "bmKsgREaFX5c"
      },
      "outputs": [
        {
          "ename": "FileNotFoundError",
          "evalue": "[Errno 2] No such file or directory: 'winequality-red.csv'",
          "output_type": "error",
          "traceback": [
            "\u001b[31m---------------------------------------------------------------------------\u001b[39m",
            "\u001b[31mFileNotFoundError\u001b[39m                         Traceback (most recent call last)",
            "\u001b[36mCell\u001b[39m\u001b[36m \u001b[39m\u001b[32mIn[1]\u001b[39m\u001b[32m, line 4\u001b[39m\n\u001b[32m      1\u001b[39m \u001b[38;5;66;03m# kullanacaginiz veri setini ilgili dizinden okuyun ve calisma alaninizda bir dataframe icine kaydedin\u001b[39;00m\n\u001b[32m      2\u001b[39m \u001b[38;5;28;01mimport\u001b[39;00m\u001b[38;5;250m \u001b[39m\u001b[34;01mpandas\u001b[39;00m\u001b[38;5;250m \u001b[39m\u001b[38;5;28;01mas\u001b[39;00m\u001b[38;5;250m \u001b[39m\u001b[34;01mpd\u001b[39;00m\n\u001b[32m----> \u001b[39m\u001b[32m4\u001b[39m red_df = \u001b[43mpd\u001b[49m\u001b[43m.\u001b[49m\u001b[43mread_csv\u001b[49m\u001b[43m(\u001b[49m\u001b[33;43m'\u001b[39;49m\u001b[33;43mwinequality-red.csv\u001b[39;49m\u001b[33;43m'\u001b[39;49m\u001b[43m)\u001b[49m\n\u001b[32m      5\u001b[39m red_df[\u001b[33m'\u001b[39m\u001b[33mwine_type\u001b[39m\u001b[33m'\u001b[39m] = \u001b[33m'\u001b[39m\u001b[33mred\u001b[39m\u001b[33m'\u001b[39m\n\u001b[32m      7\u001b[39m white_df = pd.read_csv(\u001b[33m'\u001b[39m\u001b[33mwinequality-white.csv\u001b[39m\u001b[33m'\u001b[39m)\n",
            "\u001b[36mFile \u001b[39m\u001b[32m~\\AppData\\Local\\Packages\\PythonSoftwareFoundation.Python.3.12_qbz5n2kfra8p0\\LocalCache\\local-packages\\Python312\\site-packages\\pandas\\io\\parsers\\readers.py:1026\u001b[39m, in \u001b[36mread_csv\u001b[39m\u001b[34m(filepath_or_buffer, sep, delimiter, header, names, index_col, usecols, dtype, engine, converters, true_values, false_values, skipinitialspace, skiprows, skipfooter, nrows, na_values, keep_default_na, na_filter, verbose, skip_blank_lines, parse_dates, infer_datetime_format, keep_date_col, date_parser, date_format, dayfirst, cache_dates, iterator, chunksize, compression, thousands, decimal, lineterminator, quotechar, quoting, doublequote, escapechar, comment, encoding, encoding_errors, dialect, on_bad_lines, delim_whitespace, low_memory, memory_map, float_precision, storage_options, dtype_backend)\u001b[39m\n\u001b[32m   1013\u001b[39m kwds_defaults = _refine_defaults_read(\n\u001b[32m   1014\u001b[39m     dialect,\n\u001b[32m   1015\u001b[39m     delimiter,\n\u001b[32m   (...)\u001b[39m\u001b[32m   1022\u001b[39m     dtype_backend=dtype_backend,\n\u001b[32m   1023\u001b[39m )\n\u001b[32m   1024\u001b[39m kwds.update(kwds_defaults)\n\u001b[32m-> \u001b[39m\u001b[32m1026\u001b[39m \u001b[38;5;28;01mreturn\u001b[39;00m \u001b[43m_read\u001b[49m\u001b[43m(\u001b[49m\u001b[43mfilepath_or_buffer\u001b[49m\u001b[43m,\u001b[49m\u001b[43m \u001b[49m\u001b[43mkwds\u001b[49m\u001b[43m)\u001b[49m\n",
            "\u001b[36mFile \u001b[39m\u001b[32m~\\AppData\\Local\\Packages\\PythonSoftwareFoundation.Python.3.12_qbz5n2kfra8p0\\LocalCache\\local-packages\\Python312\\site-packages\\pandas\\io\\parsers\\readers.py:620\u001b[39m, in \u001b[36m_read\u001b[39m\u001b[34m(filepath_or_buffer, kwds)\u001b[39m\n\u001b[32m    617\u001b[39m _validate_names(kwds.get(\u001b[33m\"\u001b[39m\u001b[33mnames\u001b[39m\u001b[33m\"\u001b[39m, \u001b[38;5;28;01mNone\u001b[39;00m))\n\u001b[32m    619\u001b[39m \u001b[38;5;66;03m# Create the parser.\u001b[39;00m\n\u001b[32m--> \u001b[39m\u001b[32m620\u001b[39m parser = \u001b[43mTextFileReader\u001b[49m\u001b[43m(\u001b[49m\u001b[43mfilepath_or_buffer\u001b[49m\u001b[43m,\u001b[49m\u001b[43m \u001b[49m\u001b[43m*\u001b[49m\u001b[43m*\u001b[49m\u001b[43mkwds\u001b[49m\u001b[43m)\u001b[49m\n\u001b[32m    622\u001b[39m \u001b[38;5;28;01mif\u001b[39;00m chunksize \u001b[38;5;129;01mor\u001b[39;00m iterator:\n\u001b[32m    623\u001b[39m     \u001b[38;5;28;01mreturn\u001b[39;00m parser\n",
            "\u001b[36mFile \u001b[39m\u001b[32m~\\AppData\\Local\\Packages\\PythonSoftwareFoundation.Python.3.12_qbz5n2kfra8p0\\LocalCache\\local-packages\\Python312\\site-packages\\pandas\\io\\parsers\\readers.py:1620\u001b[39m, in \u001b[36mTextFileReader.__init__\u001b[39m\u001b[34m(self, f, engine, **kwds)\u001b[39m\n\u001b[32m   1617\u001b[39m     \u001b[38;5;28mself\u001b[39m.options[\u001b[33m\"\u001b[39m\u001b[33mhas_index_names\u001b[39m\u001b[33m\"\u001b[39m] = kwds[\u001b[33m\"\u001b[39m\u001b[33mhas_index_names\u001b[39m\u001b[33m\"\u001b[39m]\n\u001b[32m   1619\u001b[39m \u001b[38;5;28mself\u001b[39m.handles: IOHandles | \u001b[38;5;28;01mNone\u001b[39;00m = \u001b[38;5;28;01mNone\u001b[39;00m\n\u001b[32m-> \u001b[39m\u001b[32m1620\u001b[39m \u001b[38;5;28mself\u001b[39m._engine = \u001b[38;5;28;43mself\u001b[39;49m\u001b[43m.\u001b[49m\u001b[43m_make_engine\u001b[49m\u001b[43m(\u001b[49m\u001b[43mf\u001b[49m\u001b[43m,\u001b[49m\u001b[43m \u001b[49m\u001b[38;5;28;43mself\u001b[39;49m\u001b[43m.\u001b[49m\u001b[43mengine\u001b[49m\u001b[43m)\u001b[49m\n",
            "\u001b[36mFile \u001b[39m\u001b[32m~\\AppData\\Local\\Packages\\PythonSoftwareFoundation.Python.3.12_qbz5n2kfra8p0\\LocalCache\\local-packages\\Python312\\site-packages\\pandas\\io\\parsers\\readers.py:1880\u001b[39m, in \u001b[36mTextFileReader._make_engine\u001b[39m\u001b[34m(self, f, engine)\u001b[39m\n\u001b[32m   1878\u001b[39m     \u001b[38;5;28;01mif\u001b[39;00m \u001b[33m\"\u001b[39m\u001b[33mb\u001b[39m\u001b[33m\"\u001b[39m \u001b[38;5;129;01mnot\u001b[39;00m \u001b[38;5;129;01min\u001b[39;00m mode:\n\u001b[32m   1879\u001b[39m         mode += \u001b[33m\"\u001b[39m\u001b[33mb\u001b[39m\u001b[33m\"\u001b[39m\n\u001b[32m-> \u001b[39m\u001b[32m1880\u001b[39m \u001b[38;5;28mself\u001b[39m.handles = \u001b[43mget_handle\u001b[49m\u001b[43m(\u001b[49m\n\u001b[32m   1881\u001b[39m \u001b[43m    \u001b[49m\u001b[43mf\u001b[49m\u001b[43m,\u001b[49m\n\u001b[32m   1882\u001b[39m \u001b[43m    \u001b[49m\u001b[43mmode\u001b[49m\u001b[43m,\u001b[49m\n\u001b[32m   1883\u001b[39m \u001b[43m    \u001b[49m\u001b[43mencoding\u001b[49m\u001b[43m=\u001b[49m\u001b[38;5;28;43mself\u001b[39;49m\u001b[43m.\u001b[49m\u001b[43moptions\u001b[49m\u001b[43m.\u001b[49m\u001b[43mget\u001b[49m\u001b[43m(\u001b[49m\u001b[33;43m\"\u001b[39;49m\u001b[33;43mencoding\u001b[39;49m\u001b[33;43m\"\u001b[39;49m\u001b[43m,\u001b[49m\u001b[43m \u001b[49m\u001b[38;5;28;43;01mNone\u001b[39;49;00m\u001b[43m)\u001b[49m\u001b[43m,\u001b[49m\n\u001b[32m   1884\u001b[39m \u001b[43m    \u001b[49m\u001b[43mcompression\u001b[49m\u001b[43m=\u001b[49m\u001b[38;5;28;43mself\u001b[39;49m\u001b[43m.\u001b[49m\u001b[43moptions\u001b[49m\u001b[43m.\u001b[49m\u001b[43mget\u001b[49m\u001b[43m(\u001b[49m\u001b[33;43m\"\u001b[39;49m\u001b[33;43mcompression\u001b[39;49m\u001b[33;43m\"\u001b[39;49m\u001b[43m,\u001b[49m\u001b[43m \u001b[49m\u001b[38;5;28;43;01mNone\u001b[39;49;00m\u001b[43m)\u001b[49m\u001b[43m,\u001b[49m\n\u001b[32m   1885\u001b[39m \u001b[43m    \u001b[49m\u001b[43mmemory_map\u001b[49m\u001b[43m=\u001b[49m\u001b[38;5;28;43mself\u001b[39;49m\u001b[43m.\u001b[49m\u001b[43moptions\u001b[49m\u001b[43m.\u001b[49m\u001b[43mget\u001b[49m\u001b[43m(\u001b[49m\u001b[33;43m\"\u001b[39;49m\u001b[33;43mmemory_map\u001b[39;49m\u001b[33;43m\"\u001b[39;49m\u001b[43m,\u001b[49m\u001b[43m \u001b[49m\u001b[38;5;28;43;01mFalse\u001b[39;49;00m\u001b[43m)\u001b[49m\u001b[43m,\u001b[49m\n\u001b[32m   1886\u001b[39m \u001b[43m    \u001b[49m\u001b[43mis_text\u001b[49m\u001b[43m=\u001b[49m\u001b[43mis_text\u001b[49m\u001b[43m,\u001b[49m\n\u001b[32m   1887\u001b[39m \u001b[43m    \u001b[49m\u001b[43merrors\u001b[49m\u001b[43m=\u001b[49m\u001b[38;5;28;43mself\u001b[39;49m\u001b[43m.\u001b[49m\u001b[43moptions\u001b[49m\u001b[43m.\u001b[49m\u001b[43mget\u001b[49m\u001b[43m(\u001b[49m\u001b[33;43m\"\u001b[39;49m\u001b[33;43mencoding_errors\u001b[39;49m\u001b[33;43m\"\u001b[39;49m\u001b[43m,\u001b[49m\u001b[43m \u001b[49m\u001b[33;43m\"\u001b[39;49m\u001b[33;43mstrict\u001b[39;49m\u001b[33;43m\"\u001b[39;49m\u001b[43m)\u001b[49m\u001b[43m,\u001b[49m\n\u001b[32m   1888\u001b[39m \u001b[43m    \u001b[49m\u001b[43mstorage_options\u001b[49m\u001b[43m=\u001b[49m\u001b[38;5;28;43mself\u001b[39;49m\u001b[43m.\u001b[49m\u001b[43moptions\u001b[49m\u001b[43m.\u001b[49m\u001b[43mget\u001b[49m\u001b[43m(\u001b[49m\u001b[33;43m\"\u001b[39;49m\u001b[33;43mstorage_options\u001b[39;49m\u001b[33;43m\"\u001b[39;49m\u001b[43m,\u001b[49m\u001b[43m \u001b[49m\u001b[38;5;28;43;01mNone\u001b[39;49;00m\u001b[43m)\u001b[49m\u001b[43m,\u001b[49m\n\u001b[32m   1889\u001b[39m \u001b[43m\u001b[49m\u001b[43m)\u001b[49m\n\u001b[32m   1890\u001b[39m \u001b[38;5;28;01massert\u001b[39;00m \u001b[38;5;28mself\u001b[39m.handles \u001b[38;5;129;01mis\u001b[39;00m \u001b[38;5;129;01mnot\u001b[39;00m \u001b[38;5;28;01mNone\u001b[39;00m\n\u001b[32m   1891\u001b[39m f = \u001b[38;5;28mself\u001b[39m.handles.handle\n",
            "\u001b[36mFile \u001b[39m\u001b[32m~\\AppData\\Local\\Packages\\PythonSoftwareFoundation.Python.3.12_qbz5n2kfra8p0\\LocalCache\\local-packages\\Python312\\site-packages\\pandas\\io\\common.py:873\u001b[39m, in \u001b[36mget_handle\u001b[39m\u001b[34m(path_or_buf, mode, encoding, compression, memory_map, is_text, errors, storage_options)\u001b[39m\n\u001b[32m    868\u001b[39m \u001b[38;5;28;01melif\u001b[39;00m \u001b[38;5;28misinstance\u001b[39m(handle, \u001b[38;5;28mstr\u001b[39m):\n\u001b[32m    869\u001b[39m     \u001b[38;5;66;03m# Check whether the filename is to be opened in binary mode.\u001b[39;00m\n\u001b[32m    870\u001b[39m     \u001b[38;5;66;03m# Binary mode does not support 'encoding' and 'newline'.\u001b[39;00m\n\u001b[32m    871\u001b[39m     \u001b[38;5;28;01mif\u001b[39;00m ioargs.encoding \u001b[38;5;129;01mand\u001b[39;00m \u001b[33m\"\u001b[39m\u001b[33mb\u001b[39m\u001b[33m\"\u001b[39m \u001b[38;5;129;01mnot\u001b[39;00m \u001b[38;5;129;01min\u001b[39;00m ioargs.mode:\n\u001b[32m    872\u001b[39m         \u001b[38;5;66;03m# Encoding\u001b[39;00m\n\u001b[32m--> \u001b[39m\u001b[32m873\u001b[39m         handle = \u001b[38;5;28;43mopen\u001b[39;49m\u001b[43m(\u001b[49m\n\u001b[32m    874\u001b[39m \u001b[43m            \u001b[49m\u001b[43mhandle\u001b[49m\u001b[43m,\u001b[49m\n\u001b[32m    875\u001b[39m \u001b[43m            \u001b[49m\u001b[43mioargs\u001b[49m\u001b[43m.\u001b[49m\u001b[43mmode\u001b[49m\u001b[43m,\u001b[49m\n\u001b[32m    876\u001b[39m \u001b[43m            \u001b[49m\u001b[43mencoding\u001b[49m\u001b[43m=\u001b[49m\u001b[43mioargs\u001b[49m\u001b[43m.\u001b[49m\u001b[43mencoding\u001b[49m\u001b[43m,\u001b[49m\n\u001b[32m    877\u001b[39m \u001b[43m            \u001b[49m\u001b[43merrors\u001b[49m\u001b[43m=\u001b[49m\u001b[43merrors\u001b[49m\u001b[43m,\u001b[49m\n\u001b[32m    878\u001b[39m \u001b[43m            \u001b[49m\u001b[43mnewline\u001b[49m\u001b[43m=\u001b[49m\u001b[33;43m\"\u001b[39;49m\u001b[33;43m\"\u001b[39;49m\u001b[43m,\u001b[49m\n\u001b[32m    879\u001b[39m \u001b[43m        \u001b[49m\u001b[43m)\u001b[49m\n\u001b[32m    880\u001b[39m     \u001b[38;5;28;01melse\u001b[39;00m:\n\u001b[32m    881\u001b[39m         \u001b[38;5;66;03m# Binary mode\u001b[39;00m\n\u001b[32m    882\u001b[39m         handle = \u001b[38;5;28mopen\u001b[39m(handle, ioargs.mode)\n",
            "\u001b[31mFileNotFoundError\u001b[39m: [Errno 2] No such file or directory: 'winequality-red.csv'"
          ]
        }
      ],
      "source": [
        "# kullanacaginiz veri setini ilgili dizinden okuyun ve calisma alaninizda bir dataframe icine kaydedin\n",
        "import pandas as pd\n",
        "\n",
        "red_df = pd.read_csv('winequality-red.csv')\n",
        "red_df['wine_type'] = 'red'\n",
        "\n",
        "white_df = pd.read_csv('winequality-white.csv')\n",
        "white_df['wine_type'] = 'white'\n",
        "\n",
        "df = pd.concat([red_df, white_df], ignore_index=True)\n",
        "\n",
        "df.head()\n"
      ]
    },
    {
      "cell_type": "code",
      "execution_count": 3,
      "metadata": {
        "id": "coJBJPgeGRlf"
      },
      "outputs": [],
      "source": [
        "# dataframe'in ilk 5 satirina goz atin (duzgun yuklenmemisse ilgili duzeltmeleri yapin)\n"
      ]
    },
    {
      "cell_type": "markdown",
      "metadata": {
        "id": "QGJvaP804ZnL"
      },
      "source": [
        "Önce biraz veri setinin özelliklerine göz atın:\n",
        "- boyutları\n",
        "- genel bilgiler\n",
        "- değişkenlerin türü ve istatiksel özellikleri\n",
        "- eksik veri var mı?\n",
        "- tekrarli veri var mı?"
      ]
    },
    {
      "cell_type": "code",
      "execution_count": 4,
      "metadata": {
        "id": "6KRqhmiNHGLM"
      },
      "outputs": [],
      "source": [
        "# veri setinin boyutu (satir, sutun sayisi)\n"
      ]
    },
    {
      "cell_type": "code",
      "execution_count": 5,
      "metadata": {
        "id": "NF3rtkbCG2m3"
      },
      "outputs": [],
      "source": [
        "# genel bilgiler\n"
      ]
    },
    {
      "cell_type": "code",
      "execution_count": 6,
      "metadata": {
        "id": "RwrMULk4HSx-"
      },
      "outputs": [],
      "source": [
        "# sayisal degiskenler icin descriptive stats\n"
      ]
    },
    {
      "cell_type": "code",
      "execution_count": 7,
      "metadata": {
        "id": "uy30ycIyHY4f"
      },
      "outputs": [],
      "source": [
        "# nitel degiskenler icin descriptive stats\n"
      ]
    },
    {
      "cell_type": "code",
      "execution_count": 8,
      "metadata": {
        "id": "KfSs09TiHjpf"
      },
      "outputs": [],
      "source": [
        "# eksik veri var mi?\n"
      ]
    },
    {
      "cell_type": "code",
      "execution_count": 9,
      "metadata": {
        "id": "B3qZ4_lDLvvc"
      },
      "outputs": [],
      "source": [
        "# tekrarli veri var mi?\n"
      ]
    },
    {
      "cell_type": "markdown",
      "metadata": {
        "id": "NuSgkbxq5dU5"
      },
      "source": [
        "Bu aşamada ilginizi çeken değişkenlere dair farklı farklı görselleştirme yöntemleri kullanarak değişkenlerin dağılımlarını inceleyin:"
      ]
    },
    {
      "cell_type": "code",
      "execution_count": 9,
      "metadata": {
        "id": "sdj4fuE1IV5L"
      },
      "outputs": [],
      "source": []
    },
    {
      "cell_type": "code",
      "execution_count": 9,
      "metadata": {
        "id": "jE9gSx3zI6Fy"
      },
      "outputs": [],
      "source": []
    },
    {
      "cell_type": "code",
      "execution_count": 9,
      "metadata": {
        "id": "UX-dQIaaJhwc"
      },
      "outputs": [],
      "source": []
    },
    {
      "cell_type": "code",
      "execution_count": null,
      "metadata": {
        "id": "FBTHXW5X53_g"
      },
      "outputs": [],
      "source": []
    },
    {
      "cell_type": "code",
      "execution_count": null,
      "metadata": {
        "id": "SCJm0MoZ5302"
      },
      "outputs": [],
      "source": []
    },
    {
      "cell_type": "code",
      "execution_count": null,
      "metadata": {
        "id": "BOXNWiJX53pq"
      },
      "outputs": [],
      "source": []
    },
    {
      "cell_type": "code",
      "execution_count": null,
      "metadata": {
        "id": "jxcwp6jc53d-"
      },
      "outputs": [],
      "source": []
    },
    {
      "cell_type": "code",
      "execution_count": null,
      "metadata": {
        "id": "Ukdtg_l356RG"
      },
      "outputs": [],
      "source": []
    },
    {
      "cell_type": "code",
      "execution_count": null,
      "metadata": {
        "id": "RYgpRyuO53Qc"
      },
      "outputs": [],
      "source": []
    },
    {
      "cell_type": "code",
      "execution_count": null,
      "metadata": {
        "id": "kKuvUuqh52ot"
      },
      "outputs": [],
      "source": []
    },
    {
      "cell_type": "markdown",
      "metadata": {
        "id": "vska0yOnQSog"
      },
      "source": [
        "## **Regresyon**\n",
        "\n",
        "Bu çalışmada amaç, bağımsız değişkenleri kullanarak, hedef değişkeni tahmin edecek bir regresyon problemi formüle etmek olacaktır. Tüm bağımsız değişkenleri kullanarak, en uygun regresyon modelini kurun. Derste öğrendiğimiz metrikleri kullanarak; kurduğunuz regresyon modelini yorumlayın.\n",
        "Ardından, boyut indirgeme amacıyla PCA yöntemini kullanarak yeni bir bağımsız değişken kümesi bulun. (Ne yaptığınızı anlamamız için, her yaptığınız işlemi aşama aşama gösterin ve yorum satırları ekleyin.) Boyut indirgemenin, tahmin performansına etkisini metrikleri yorumlayarak anlatın.\n",
        "\n",
        "Not: Yorumlarınızı kod hücrelerinin içerisine yorum satırı olarak ekleyebilir veya yeni metin hücreleri/blokları açarak ekleyebilirsiniz."
      ]
    },
    {
      "cell_type": "code",
      "execution_count": null,
      "metadata": {
        "id": "DA4Xj9wq6Ojz"
      },
      "outputs": [],
      "source": [
        "# ihtiyaciniz olan kutuphaneleri calisma alaniniza ekleyin\n"
      ]
    },
    {
      "cell_type": "markdown",
      "metadata": {
        "id": "KIgqxU0Q6zmO"
      },
      "source": [
        "**Soru:** Nasıl bir regresyon modeli kurduğunuzu açıklayın.\n",
        "\n",
        "**Cevap:** (Bu hücre üzerine çift tıklayarak bu parantezi silin ve cevabınızı buraya yazın)"
      ]
    },
    {
      "cell_type": "code",
      "execution_count": null,
      "metadata": {
        "id": "OyfjK-fAQIyA"
      },
      "outputs": [],
      "source": [
        "# elinizdeki veriyi sectiginiz regresyon modeline beslemek icin gerekli hazirliklari yapin\n"
      ]
    },
    {
      "cell_type": "code",
      "execution_count": null,
      "metadata": {
        "id": "7fb4Vhnq7tB5"
      },
      "outputs": [],
      "source": []
    },
    {
      "cell_type": "code",
      "execution_count": null,
      "metadata": {
        "id": "FF9lnW8D7sop"
      },
      "outputs": [],
      "source": []
    },
    {
      "cell_type": "code",
      "execution_count": null,
      "metadata": {
        "id": "nHu-de3U7ZVp"
      },
      "outputs": [],
      "source": [
        "# regresyon modelini cagirin ve veriniz uzerinde calistirin\n"
      ]
    },
    {
      "cell_type": "code",
      "execution_count": null,
      "metadata": {
        "id": "LMpbOZfC9_5I"
      },
      "outputs": [],
      "source": []
    },
    {
      "cell_type": "code",
      "execution_count": null,
      "metadata": {
        "id": "U2ZZUEFI9_sp"
      },
      "outputs": [],
      "source": []
    },
    {
      "cell_type": "code",
      "execution_count": null,
      "metadata": {
        "id": "1fdtSxOF7jZZ"
      },
      "outputs": [],
      "source": [
        "# derste kullanilan metrikleri kullanarak sonuclarini degerlendirin\n"
      ]
    },
    {
      "cell_type": "code",
      "execution_count": null,
      "metadata": {
        "id": "Av88G-ck-B_i"
      },
      "outputs": [],
      "source": []
    },
    {
      "cell_type": "code",
      "execution_count": null,
      "metadata": {
        "id": "vFFY9LjM-ByC"
      },
      "outputs": [],
      "source": []
    },
    {
      "cell_type": "markdown",
      "metadata": {
        "id": "dCF7ICbU8FQx"
      },
      "source": [
        "**Soru:** Regresyon model(ler)inin performansını yorumlayın.\n",
        "\n",
        "**Cevap:** (Bu hücre üzerine çift tıklayarak bu parantezi silin ve cevabınızı buraya yazın)"
      ]
    },
    {
      "cell_type": "markdown",
      "metadata": {
        "id": "JXE5skO49GKy"
      },
      "source": [
        "PCA kullanarak verinin boyutlarını indirgeyin ve yukarıda yaptığınız regresyon çalışmasını yeni elde ettiğiniz veriler üzerinde tekrarlayın."
      ]
    },
    {
      "cell_type": "code",
      "execution_count": 10,
      "metadata": {
        "id": "YVwLFmMy9ZI_"
      },
      "outputs": [],
      "source": []
    },
    {
      "cell_type": "code",
      "execution_count": 10,
      "metadata": {
        "id": "rKyUILtX9Fuc"
      },
      "outputs": [],
      "source": []
    },
    {
      "cell_type": "code",
      "execution_count": null,
      "metadata": {
        "id": "R9TaBxjX8kck"
      },
      "outputs": [],
      "source": []
    },
    {
      "cell_type": "code",
      "execution_count": null,
      "metadata": {
        "id": "2MGzRn-U6zQZ"
      },
      "outputs": [],
      "source": []
    },
    {
      "cell_type": "code",
      "execution_count": null,
      "metadata": {
        "id": "vdwMYL_f6lyw"
      },
      "outputs": [],
      "source": []
    },
    {
      "cell_type": "code",
      "execution_count": null,
      "metadata": {
        "id": "Q5EerH32RJNX"
      },
      "outputs": [],
      "source": []
    },
    {
      "cell_type": "code",
      "execution_count": 10,
      "metadata": {
        "id": "yeOu1MpfRHnc"
      },
      "outputs": [],
      "source": []
    },
    {
      "cell_type": "code",
      "execution_count": 10,
      "metadata": {
        "collapsed": true,
        "id": "pfA6WObkKnvb"
      },
      "outputs": [],
      "source": []
    },
    {
      "cell_type": "code",
      "execution_count": 10,
      "metadata": {
        "id": "gR-erQnIRV9w"
      },
      "outputs": [],
      "source": []
    },
    {
      "cell_type": "code",
      "execution_count": 10,
      "metadata": {
        "id": "_eS9S-c8SBAj"
      },
      "outputs": [],
      "source": []
    },
    {
      "cell_type": "markdown",
      "metadata": {
        "id": "Burzj41S9seE"
      },
      "source": [
        "**Soru:** Boyut indirgemenin, tahmin performansına etkisini performans ölçütlerini yorumlayarak anlatın.\n",
        "\n",
        "**Cevap:** (Bu hücre üzerine çift tıklayarak bu parantezi silin ve cevabınızı buraya yazın)"
      ]
    },
    {
      "cell_type": "markdown",
      "metadata": {
        "id": "YYAYfLtT-YS-"
      },
      "source": [
        "## **2. Sınıflandırma**\n",
        "\n",
        "Bu çalışmanın amacı, bağımsız değişkenleri kullanarak, hedef değişkeni tahmin edecek bir sınıflandırma problemi formüle etmek olacaktır. Bunu yapmak için öncelikle hedef değişkeni kategorik değişkene çevirmeniz gerekecektir, bu adım için quality değeri 5’ten büyük olanları “good”, 5’e eşit veya 5’ten küçük olanları ise “bad” olarak isimlendirebilirsiniz. Bir önceki soruda olduğu gibi tüm bağımsız değişkenleri kullanarak, en uygun sınıflandırma modelini seçin. Derste öğrendiğimiz metrikleri kullanarak; kurduğunuz sınıflandırma modelinin performansını yorumlayın. Ardından, boyut indirgeme amacıyla PCA yöntemini kullanarak yeni bir bağımsız değişken kümesi bulun. (Ne yaptığınızı anlamamız için, her yaptığınız işlemi aşama aşama gösterin ve yorum satırları ekleyin.) Boyut indirgemenin, sınıflandırma performansına etkisini metrikleri yorumlayarak anlatın.\n",
        "\n",
        "Not: Yorumlarınızı kod hücrelerinin içerisine yorum satırı olarak ekleyebilir veya yeni metin hücreleri/blokları açarak ekleyebilirsiniz."
      ]
    },
    {
      "cell_type": "code",
      "execution_count": null,
      "metadata": {
        "id": "hfKXjbM3AVXC"
      },
      "outputs": [],
      "source": [
        "# ihtiyaciniz olan kutuphaneleri calisma alaniniza ekleyin\n"
      ]
    },
    {
      "cell_type": "code",
      "execution_count": null,
      "metadata": {
        "id": "r6pBVLZJAkIb"
      },
      "outputs": [],
      "source": [
        "# hedef degiskenini (quality) kategorik degiskene cevirmek icin gerekli islemleri yapin\n",
        "# quality degeri 5’ten buyuk olanlari “good”, 5’e esit veya 5’ten kucuk olanlari “bad” olarak isimlendirin\n"
      ]
    },
    {
      "cell_type": "markdown",
      "metadata": {
        "id": "9T9rk6CsAVXC"
      },
      "source": [
        "**Soru:** Hangi sınıflandırma modelini seçtiğinizi açıklayın.\n",
        "\n",
        "**Cevap:** (Bu hücre üzerine çift tıklayarak bu parantezi silin ve cevabınızı buraya yazın)"
      ]
    },
    {
      "cell_type": "code",
      "execution_count": null,
      "metadata": {
        "id": "X0G69ij7AVXC"
      },
      "outputs": [],
      "source": [
        "# elinizdeki veriyi sectiginiz siniflandirma modeline beslemek icin gerekli hazirliklari yapin\n"
      ]
    },
    {
      "cell_type": "code",
      "execution_count": null,
      "metadata": {
        "id": "h55FwsZBAVXD"
      },
      "outputs": [],
      "source": []
    },
    {
      "cell_type": "code",
      "execution_count": null,
      "metadata": {
        "id": "ZNb36fzfAVXD"
      },
      "outputs": [],
      "source": []
    },
    {
      "cell_type": "code",
      "execution_count": null,
      "metadata": {
        "id": "m8x8kUE4AVXD"
      },
      "outputs": [],
      "source": [
        "# siniflandirma modelini cagirin ve veriniz uzerinde calistirin\n"
      ]
    },
    {
      "cell_type": "code",
      "execution_count": null,
      "metadata": {
        "id": "X_pPWlAiAVXD"
      },
      "outputs": [],
      "source": []
    },
    {
      "cell_type": "code",
      "execution_count": null,
      "metadata": {
        "id": "OR74de1OAVXD"
      },
      "outputs": [],
      "source": []
    },
    {
      "cell_type": "code",
      "execution_count": null,
      "metadata": {
        "id": "uMSGrsZgAVXD"
      },
      "outputs": [],
      "source": [
        "# derste kullanilan metrikleri kullanarak sonuclarini degerlendirin\n"
      ]
    },
    {
      "cell_type": "code",
      "execution_count": null,
      "metadata": {
        "id": "AjeZt5GfAVXD"
      },
      "outputs": [],
      "source": []
    },
    {
      "cell_type": "code",
      "execution_count": null,
      "metadata": {
        "id": "zCLRq0EEAVXD"
      },
      "outputs": [],
      "source": []
    },
    {
      "cell_type": "markdown",
      "metadata": {
        "id": "H0xa_eTmAVXD"
      },
      "source": [
        "**Soru:** Sınıflandırma model(ler)inin performansını yorumlayın.\n",
        "\n",
        "**Cevap:** (Bu hücre üzerine çift tıklayarak bu parantezi silin ve cevabınızı buraya yazın)"
      ]
    },
    {
      "cell_type": "markdown",
      "metadata": {
        "id": "ZpyCrD0DAVXE"
      },
      "source": [
        "PCA kullanarak verinin boyutlarını indirgeyin ve yukarıda yaptığınız sınıflandırma çalışmasını yeni elde ettiğiniz veriler üzerinde tekrarlayın."
      ]
    },
    {
      "cell_type": "code",
      "execution_count": null,
      "metadata": {
        "id": "ptugclAXAVXE"
      },
      "outputs": [],
      "source": []
    },
    {
      "cell_type": "code",
      "execution_count": null,
      "metadata": {
        "id": "JTdt54zcAVXE"
      },
      "outputs": [],
      "source": []
    },
    {
      "cell_type": "code",
      "execution_count": null,
      "metadata": {
        "id": "CZDZC47GAVXE"
      },
      "outputs": [],
      "source": []
    },
    {
      "cell_type": "code",
      "execution_count": null,
      "metadata": {
        "id": "LU5RTzLzAVXE"
      },
      "outputs": [],
      "source": []
    },
    {
      "cell_type": "code",
      "execution_count": null,
      "metadata": {
        "id": "TT7Y6-KpAVXE"
      },
      "outputs": [],
      "source": []
    },
    {
      "cell_type": "code",
      "execution_count": null,
      "metadata": {
        "id": "pkT23ZyrAVXE"
      },
      "outputs": [],
      "source": []
    },
    {
      "cell_type": "code",
      "execution_count": null,
      "metadata": {
        "id": "_4UyN5XjAVXE"
      },
      "outputs": [],
      "source": []
    },
    {
      "cell_type": "code",
      "execution_count": null,
      "metadata": {
        "collapsed": true,
        "id": "wD66AcfrAVXE"
      },
      "outputs": [],
      "source": []
    },
    {
      "cell_type": "code",
      "execution_count": null,
      "metadata": {
        "id": "z4gUUSXlAVXF"
      },
      "outputs": [],
      "source": []
    },
    {
      "cell_type": "code",
      "execution_count": null,
      "metadata": {
        "id": "ofbWSFX9AVXF"
      },
      "outputs": [],
      "source": []
    },
    {
      "cell_type": "markdown",
      "metadata": {
        "id": "EDfccvdDAVXF"
      },
      "source": [
        "**Soru:** Boyut indirgemenin, sınıflandırma performansına etkisini performans ölçütlerini yorumlayarak anlatın.\n",
        "\n",
        "**Cevap:** (Bu hücre üzerine çift tıklayarak bu parantezi silin ve cevabınızı buraya yazın)"
      ]
    }
  ],
  "metadata": {
    "colab": {
      "provenance": []
    },
    "kernelspec": {
      "display_name": "Python 3",
      "name": "python3"
    },
    "language_info": {
      "codemirror_mode": {
        "name": "ipython",
        "version": 3
      },
      "file_extension": ".py",
      "mimetype": "text/x-python",
      "name": "python",
      "nbconvert_exporter": "python",
      "pygments_lexer": "ipython3",
      "version": "3.12.9"
    }
  },
  "nbformat": 4,
  "nbformat_minor": 0
}
